{
 "cells": [
  {
   "cell_type": "markdown",
   "id": "c08bcbf1-7c98-421c-a821-f586c8c91def",
   "metadata": {
    "jp-MarkdownHeadingCollapsed": true
   },
   "source": [
    "# Dataset Description (Polished & Professional)\n",
    "### This dataset contains records of Battery Electric Vehicles (BEVs) and Plug-in Hybrid Electric Vehicles (PHEVs) that are currently registered with the Washington State Department of Licensing (DOL).\n",
    "\n",
    "* #### It includes detailed information about each vehicle’s:\n",
    "\n",
    "  - #### Brand (Make) and Model\n",
    "\n",
    "  - #### Manufacturing year\n",
    "\n",
    "  - #### Electric range and base price\n",
    "\n",
    "  - #### CAFV (Clean Alternative Fuel Vehicle) eligibility\n",
    "\n",
    "  - #### Geographic registration details like city, county, zip code, and GPS coordinates\n",
    "\n",
    "  - #### Utility provider\n",
    "\n",
    "  - #### Legislative district and census tract for policy-level insights\n"
   ]
  },
  {
   "cell_type": "markdown",
   "id": "433646d8-d35d-4bb5-9480-27dc8690073d",
   "metadata": {},
   "source": [
    "# Column Name | Description\n",
    "\n",
    "* VIN (1-10): Vehicle Identification Number (partial, first 10 chars). Unique ID for each vehicle. Use for identifying duplicates or tracking individual entries.\n",
    "\n",
    "* County: The county where the vehicle is registered. (e.g., King, Yakima). Useful for regional analysis.\n",
    "\n",
    "* City: The city where the vehicle is registered. Useful to find top EV cities.\n",
    "\n",
    "* State: State abbreviation (always \"WA\" = Washington).\n",
    "\n",
    "* Postal Code: Area zip code. Can be used for location-level mapping or grouping.\n",
    "\n",
    "* Model Year: The year the EV was manufactured. Helpful in finding trends over years.\n",
    "\n",
    "* Make: The brand/company name (e.g., TESLA, FORD, NISSAN).\n",
    "\n",
    "* Model: Specific model name (e.g., Model 3, LEAF, Mustang Mach-E).\n",
    "\n",
    "* Electric Vehicle Type: EV type:\n",
    "  - Battery Electric Vehicle (BEV) = fully electric\n",
    "  - Plug-in Hybrid Electric Vehicle (PHEV) = electric + fuel\n",
    "\n",
    "\n",
    "* Clean Alternative Fuel Vehicle (CAFV) Eligibility: Whether the vehicle is eligible for the clean fuel program. Useful for policy eligibility analysis.\n",
    "\n",
    "* Electric Range: Maximum distance (in miles/km) the vehicle can travel on a full electric charge. Used to compare efficiency.\n",
    "\n",
    "* Base MSRP: Manufacturer Suggested Retail Price (initial cost of vehicle). Great for price comparison and budgeting.\n",
    "\n",
    "* Legislative District: WA state legislative district code. Useful for political/geographical mapping.\n",
    "\n",
    "* DOL Vehicle ID: Department of Licensing internal vehicle ID. Just a unique identifier (not useful for EDA).\n",
    "\n",
    "* Vehicle Location: Coordinates (longitude, latitude) where vehicle is registered. Useful for mapping on map/chart.\n",
    "\n",
    "* Electric Utility: The company supplying electricity to that region (e.g., PACIFICORP, PUGET SOUND ENERGY).\n",
    "\n",
    "* 2020 Census Tract: Geographical block code from 2020 US Census. Used in mapping/demographics.\n",
    "\n"
   ]
  },
  {
   "cell_type": "markdown",
   "id": "826efb82-0fc6-4064-9fe7-f95a0773f64d",
   "metadata": {},
   "source": [
    "## Import Libraries"
   ]
  },
  {
   "cell_type": "code",
   "execution_count": 96,
   "id": "ab947ff2-593f-4cb0-ad6a-3a87eb5fa875",
   "metadata": {},
   "outputs": [],
   "source": [
    "import pandas as pd\n",
    "import matplotlib.pyplot as plt\n",
    "import seaborn as sns\n",
    "import warnings\n",
    "warnings.filterwarnings('ignore')\n",
    "%matplotlib inline  "
   ]
  },
  {
   "cell_type": "code",
   "execution_count": 139,
   "id": "0be751d4-2025-438f-afe4-61bd6f71dc2a",
   "metadata": {},
   "outputs": [
    {
     "data": {
      "text/html": [
       "<div>\n",
       "<style scoped>\n",
       "    .dataframe tbody tr th:only-of-type {\n",
       "        vertical-align: middle;\n",
       "    }\n",
       "\n",
       "    .dataframe tbody tr th {\n",
       "        vertical-align: top;\n",
       "    }\n",
       "\n",
       "    .dataframe thead th {\n",
       "        text-align: right;\n",
       "    }\n",
       "</style>\n",
       "<table border=\"1\" class=\"dataframe\">\n",
       "  <thead>\n",
       "    <tr style=\"text-align: right;\">\n",
       "      <th></th>\n",
       "      <th>VIN (1-10)</th>\n",
       "      <th>County</th>\n",
       "      <th>City</th>\n",
       "      <th>State</th>\n",
       "      <th>Postal Code</th>\n",
       "      <th>Model Year</th>\n",
       "      <th>Make</th>\n",
       "      <th>Model</th>\n",
       "      <th>Electric Vehicle Type</th>\n",
       "      <th>Clean Alternative Fuel Vehicle (CAFV) Eligibility</th>\n",
       "      <th>Electric Range</th>\n",
       "      <th>Base MSRP</th>\n",
       "      <th>Legislative District</th>\n",
       "      <th>DOL Vehicle ID</th>\n",
       "      <th>Vehicle Location</th>\n",
       "      <th>Electric Utility</th>\n",
       "      <th>2020 Census Tract</th>\n",
       "    </tr>\n",
       "  </thead>\n",
       "  <tbody>\n",
       "    <tr>\n",
       "      <th>0</th>\n",
       "      <td>1C4JJXP68P</td>\n",
       "      <td>Yakima</td>\n",
       "      <td>Yakima</td>\n",
       "      <td>WA</td>\n",
       "      <td>98901.0</td>\n",
       "      <td>2023</td>\n",
       "      <td>JEEP</td>\n",
       "      <td>WRANGLER</td>\n",
       "      <td>Plug-in Hybrid Electric Vehicle (PHEV)</td>\n",
       "      <td>Not eligible due to low battery range</td>\n",
       "      <td>21.0</td>\n",
       "      <td>0.0</td>\n",
       "      <td>15.0</td>\n",
       "      <td>249905295</td>\n",
       "      <td>POINT (-120.50729 46.60464)</td>\n",
       "      <td>PACIFICORP</td>\n",
       "      <td>5.307700e+10</td>\n",
       "    </tr>\n",
       "    <tr>\n",
       "      <th>1</th>\n",
       "      <td>1G1FY6S03L</td>\n",
       "      <td>Kitsap</td>\n",
       "      <td>Kingston</td>\n",
       "      <td>WA</td>\n",
       "      <td>98346.0</td>\n",
       "      <td>2020</td>\n",
       "      <td>CHEVROLET</td>\n",
       "      <td>BOLT EV</td>\n",
       "      <td>Battery Electric Vehicle (BEV)</td>\n",
       "      <td>Clean Alternative Fuel Vehicle Eligible</td>\n",
       "      <td>259.0</td>\n",
       "      <td>0.0</td>\n",
       "      <td>23.0</td>\n",
       "      <td>141133765</td>\n",
       "      <td>POINT (-122.4977 47.79802)</td>\n",
       "      <td>PUGET SOUND ENERGY INC</td>\n",
       "      <td>5.303594e+10</td>\n",
       "    </tr>\n",
       "    <tr>\n",
       "      <th>2</th>\n",
       "      <td>KNDCE3LG9K</td>\n",
       "      <td>King</td>\n",
       "      <td>Seattle</td>\n",
       "      <td>WA</td>\n",
       "      <td>98125.0</td>\n",
       "      <td>2019</td>\n",
       "      <td>KIA</td>\n",
       "      <td>NIRO</td>\n",
       "      <td>Battery Electric Vehicle (BEV)</td>\n",
       "      <td>Clean Alternative Fuel Vehicle Eligible</td>\n",
       "      <td>239.0</td>\n",
       "      <td>0.0</td>\n",
       "      <td>46.0</td>\n",
       "      <td>3410074</td>\n",
       "      <td>POINT (-122.30253 47.72656)</td>\n",
       "      <td>CITY OF SEATTLE - (WA)|CITY OF TACOMA - (WA)</td>\n",
       "      <td>5.303300e+10</td>\n",
       "    </tr>\n",
       "    <tr>\n",
       "      <th>3</th>\n",
       "      <td>1N4AZ0CP8E</td>\n",
       "      <td>Thurston</td>\n",
       "      <td>Olympia</td>\n",
       "      <td>WA</td>\n",
       "      <td>98506.0</td>\n",
       "      <td>2014</td>\n",
       "      <td>NISSAN</td>\n",
       "      <td>LEAF</td>\n",
       "      <td>Battery Electric Vehicle (BEV)</td>\n",
       "      <td>Clean Alternative Fuel Vehicle Eligible</td>\n",
       "      <td>84.0</td>\n",
       "      <td>0.0</td>\n",
       "      <td>22.0</td>\n",
       "      <td>182436474</td>\n",
       "      <td>POINT (-122.87741 47.05997)</td>\n",
       "      <td>PUGET SOUND ENERGY INC</td>\n",
       "      <td>5.306701e+10</td>\n",
       "    </tr>\n",
       "    <tr>\n",
       "      <th>4</th>\n",
       "      <td>5YJXCAE29L</td>\n",
       "      <td>Kitsap</td>\n",
       "      <td>Silverdale</td>\n",
       "      <td>WA</td>\n",
       "      <td>98383.0</td>\n",
       "      <td>2020</td>\n",
       "      <td>TESLA</td>\n",
       "      <td>MODEL X</td>\n",
       "      <td>Battery Electric Vehicle (BEV)</td>\n",
       "      <td>Clean Alternative Fuel Vehicle Eligible</td>\n",
       "      <td>293.0</td>\n",
       "      <td>0.0</td>\n",
       "      <td>23.0</td>\n",
       "      <td>1843054</td>\n",
       "      <td>POINT (-122.69275 47.65171)</td>\n",
       "      <td>PUGET SOUND ENERGY INC</td>\n",
       "      <td>5.303509e+10</td>\n",
       "    </tr>\n",
       "  </tbody>\n",
       "</table>\n",
       "</div>"
      ],
      "text/plain": [
       "   VIN (1-10)    County        City State  Postal Code  Model Year       Make  \\\n",
       "0  1C4JJXP68P    Yakima      Yakima    WA      98901.0        2023       JEEP   \n",
       "1  1G1FY6S03L    Kitsap    Kingston    WA      98346.0        2020  CHEVROLET   \n",
       "2  KNDCE3LG9K      King     Seattle    WA      98125.0        2019        KIA   \n",
       "3  1N4AZ0CP8E  Thurston     Olympia    WA      98506.0        2014     NISSAN   \n",
       "4  5YJXCAE29L    Kitsap  Silverdale    WA      98383.0        2020      TESLA   \n",
       "\n",
       "      Model                   Electric Vehicle Type  \\\n",
       "0  WRANGLER  Plug-in Hybrid Electric Vehicle (PHEV)   \n",
       "1   BOLT EV          Battery Electric Vehicle (BEV)   \n",
       "2      NIRO          Battery Electric Vehicle (BEV)   \n",
       "3      LEAF          Battery Electric Vehicle (BEV)   \n",
       "4   MODEL X          Battery Electric Vehicle (BEV)   \n",
       "\n",
       "  Clean Alternative Fuel Vehicle (CAFV) Eligibility  Electric Range  \\\n",
       "0             Not eligible due to low battery range            21.0   \n",
       "1           Clean Alternative Fuel Vehicle Eligible           259.0   \n",
       "2           Clean Alternative Fuel Vehicle Eligible           239.0   \n",
       "3           Clean Alternative Fuel Vehicle Eligible            84.0   \n",
       "4           Clean Alternative Fuel Vehicle Eligible           293.0   \n",
       "\n",
       "   Base MSRP  Legislative District  DOL Vehicle ID  \\\n",
       "0        0.0                  15.0       249905295   \n",
       "1        0.0                  23.0       141133765   \n",
       "2        0.0                  46.0         3410074   \n",
       "3        0.0                  22.0       182436474   \n",
       "4        0.0                  23.0         1843054   \n",
       "\n",
       "              Vehicle Location                              Electric Utility  \\\n",
       "0  POINT (-120.50729 46.60464)                                    PACIFICORP   \n",
       "1   POINT (-122.4977 47.79802)                        PUGET SOUND ENERGY INC   \n",
       "2  POINT (-122.30253 47.72656)  CITY OF SEATTLE - (WA)|CITY OF TACOMA - (WA)   \n",
       "3  POINT (-122.87741 47.05997)                        PUGET SOUND ENERGY INC   \n",
       "4  POINT (-122.69275 47.65171)                        PUGET SOUND ENERGY INC   \n",
       "\n",
       "   2020 Census Tract  \n",
       "0       5.307700e+10  \n",
       "1       5.303594e+10  \n",
       "2       5.303300e+10  \n",
       "3       5.306701e+10  \n",
       "4       5.303509e+10  "
      ]
     },
     "execution_count": 139,
     "metadata": {},
     "output_type": "execute_result"
    }
   ],
   "source": [
    "# import csv file into python\n",
    "df = pd.read_csv('C:\\\\Users\\\\DELL\\\\Downloads\\\\electric.csv')\n",
    "df.head()"
   ]
  },
  {
   "cell_type": "code",
   "execution_count": 102,
   "id": "eeb2ddd7-9ca7-4d87-937f-1d64404abc2e",
   "metadata": {},
   "outputs": [
    {
     "data": {
      "text/plain": [
       "(239747, 17)"
      ]
     },
     "execution_count": 102,
     "metadata": {},
     "output_type": "execute_result"
    }
   ],
   "source": [
    "df.shape"
   ]
  },
  {
   "cell_type": "code",
   "execution_count": 140,
   "id": "b3a7d727-aaf3-4e8c-844d-ce08d7aa95cd",
   "metadata": {},
   "outputs": [
    {
     "data": {
      "text/plain": [
       "VIN (1-10)                                             0\n",
       "County                                                 3\n",
       "City                                                   3\n",
       "State                                                  0\n",
       "Postal Code                                            3\n",
       "Model Year                                             0\n",
       "Make                                                   0\n",
       "Model                                                  0\n",
       "Electric Vehicle Type                                  0\n",
       "Clean Alternative Fuel Vehicle (CAFV) Eligibility      0\n",
       "Electric Range                                        49\n",
       "Base MSRP                                             49\n",
       "Legislative District                                 515\n",
       "DOL Vehicle ID                                         0\n",
       "Vehicle Location                                      10\n",
       "Electric Utility                                       3\n",
       "2020 Census Tract                                      3\n",
       "dtype: int64"
      ]
     },
     "execution_count": 140,
     "metadata": {},
     "output_type": "execute_result"
    }
   ],
   "source": [
    "df.isna().sum()"
   ]
  },
  {
   "cell_type": "code",
   "execution_count": 141,
   "id": "a3dcb4ba-ef6a-4288-83f4-696014c5c6fa",
   "metadata": {},
   "outputs": [
    {
     "name": "stdout",
     "output_type": "stream",
     "text": [
      "<class 'pandas.core.frame.DataFrame'>\n",
      "RangeIndex: 239747 entries, 0 to 239746\n",
      "Data columns (total 17 columns):\n",
      " #   Column                                             Non-Null Count   Dtype  \n",
      "---  ------                                             --------------   -----  \n",
      " 0   VIN (1-10)                                         239747 non-null  object \n",
      " 1   County                                             239744 non-null  object \n",
      " 2   City                                               239744 non-null  object \n",
      " 3   State                                              239747 non-null  object \n",
      " 4   Postal Code                                        239744 non-null  float64\n",
      " 5   Model Year                                         239747 non-null  int64  \n",
      " 6   Make                                               239747 non-null  object \n",
      " 7   Model                                              239747 non-null  object \n",
      " 8   Electric Vehicle Type                              239747 non-null  object \n",
      " 9   Clean Alternative Fuel Vehicle (CAFV) Eligibility  239747 non-null  object \n",
      " 10  Electric Range                                     239698 non-null  float64\n",
      " 11  Base MSRP                                          239698 non-null  float64\n",
      " 12  Legislative District                               239232 non-null  float64\n",
      " 13  DOL Vehicle ID                                     239747 non-null  int64  \n",
      " 14  Vehicle Location                                   239737 non-null  object \n",
      " 15  Electric Utility                                   239744 non-null  object \n",
      " 16  2020 Census Tract                                  239744 non-null  float64\n",
      "dtypes: float64(5), int64(2), object(10)\n",
      "memory usage: 31.1+ MB\n"
     ]
    }
   ],
   "source": [
    "df.info()"
   ]
  },
  {
   "cell_type": "markdown",
   "id": "7f80eb78-3144-415e-baa2-4833a4ebc86c",
   "metadata": {},
   "source": [
    "## Fill missing value with Statistical and random value"
   ]
  },
  {
   "cell_type": "code",
   "execution_count": 142,
   "id": "2f72465c-cbe4-43cb-ac27-14d8c3bc43d7",
   "metadata": {},
   "outputs": [],
   "source": [
    "# Fill categorical float columns with mode\n",
    "df[\"Postal Code\"].fillna(df[\"Postal Code\"].mode()[0], inplace=True)\n",
    "df[\"Legislative District\"].fillna(df[\"Legislative District\"].mode()[0], inplace=True)\n",
    "df[\"2020 Census Tract\"].fillna(df[\"2020 Census Tract\"].mode()[0], inplace=True)\n",
    "\n",
    "# Fill real numeric columns with median\n",
    "df[\"Electric Range\"].fillna(df[\"Electric Range\"].median(), inplace=True)\n",
    "df[\"Base MSRP\"].fillna(df[\"Base MSRP\"].median(), inplace=True)\n",
    "\n",
    "# Fill object columns with \"Unknown\"\n",
    "string_cols= [\"County\", \"City\", \"Vehicle Location\", \"Electric Utility\"]\n",
    "for col in string_cols:\n",
    "    df[col].fillna(\"Unknown\", inplace=True)\n"
   ]
  },
  {
   "cell_type": "code",
   "execution_count": 143,
   "id": "eaad7761-8417-4c4d-8d17-842198e2e478",
   "metadata": {},
   "outputs": [
    {
     "data": {
      "text/plain": [
       "VIN (1-10)                                           0\n",
       "County                                               0\n",
       "City                                                 0\n",
       "State                                                0\n",
       "Postal Code                                          0\n",
       "Model Year                                           0\n",
       "Make                                                 0\n",
       "Model                                                0\n",
       "Electric Vehicle Type                                0\n",
       "Clean Alternative Fuel Vehicle (CAFV) Eligibility    0\n",
       "Electric Range                                       0\n",
       "Base MSRP                                            0\n",
       "Legislative District                                 0\n",
       "DOL Vehicle ID                                       0\n",
       "Vehicle Location                                     0\n",
       "Electric Utility                                     0\n",
       "2020 Census Tract                                    0\n",
       "dtype: int64"
      ]
     },
     "execution_count": 143,
     "metadata": {},
     "output_type": "execute_result"
    }
   ],
   "source": [
    "df.isna().sum() #check now if there any null value remain"
   ]
  },
  {
   "cell_type": "code",
   "execution_count": 107,
   "id": "4fb34126-b0fc-4bcd-9e1d-bbb786b2a922",
   "metadata": {},
   "outputs": [
    {
     "data": {
      "text/plain": [
       "Make\n",
       "TESLA        101675\n",
       "CHEVROLET     17462\n",
       "NISSAN        15607\n",
       "FORD          12851\n",
       "KIA           11747\n",
       "Name: count, dtype: int64"
      ]
     },
     "execution_count": 107,
     "metadata": {},
     "output_type": "execute_result"
    }
   ],
   "source": [
    "# Most Common Electric Vehicle Makes\n",
    "\n",
    "top_makes = df['Make'].value_counts().head()\n",
    "top_makes"
   ]
  },
  {
   "cell_type": "code",
   "execution_count": 108,
   "id": "5bc65ce0-e1cd-46cf-9c4c-7122badc483a",
   "metadata": {},
   "outputs": [
    {
     "name": "stdout",
     "output_type": "stream",
     "text": [
      "Make\n",
      "JAGUAR                  192.075000\n",
      "WHEEGO ELECTRIC CARS    100.000000\n",
      "TH!NK                   100.000000\n",
      "CHEVROLET                84.346810\n",
      "FIAT                     79.063932\n",
      "NISSAN                   69.477222\n",
      "SMART                    61.811475\n",
      "TESLA                    59.602793\n",
      "AZURE DYNAMICS           56.000000\n",
      "PORSCHE                  53.040514\n",
      "Name: Electric Range, dtype: float64\n"
     ]
    }
   ],
   "source": [
    "# Average Electric Range by Make by using group by\n",
    "avg_range_by_make = df.groupby(\"Make\")[\"Electric Range\"].mean().sort_values(ascending=False).head(10)\n",
    "print(avg_range_by_make)"
   ]
  },
  {
   "cell_type": "code",
   "execution_count": 110,
   "id": "140e0e71-706c-4214-a32d-37366b576d13",
   "metadata": {},
   "outputs": [
    {
     "name": "stdout",
     "output_type": "stream",
     "text": [
      "Make                  Model    \n",
      "PORSCHE               918          845000.000000\n",
      "TESLA                 ROADSTER     103604.166667\n",
      "FISKER                KARMA        102000.000000\n",
      "BMW                   740E          90425.925926\n",
      "CADILLAC              CT6           75095.000000\n",
      "BMW                   530E          35605.136986\n",
      "WHEEGO ELECTRIC CARS  WHEEGO        32995.000000\n",
      "KIA                   SOUL EV       32373.913043\n",
      "                      SOUL          30100.263158\n",
      "SUBARU                CROSSTREK     25315.531915\n",
      "Name: Base MSRP, dtype: float64\n"
     ]
    }
   ],
   "source": [
    "# Highest Average MSRP (Top 10 Models)\n",
    "avg_msrp = df.groupby([\"Make\",\"Model\"])[\"Base MSRP\"].mean().sort_values(ascending=False).head(10)\n",
    "print(avg_msrp)"
   ]
  },
  {
   "cell_type": "code",
   "execution_count": 111,
   "id": "e6a5850e-d50c-46ed-b0c0-6b2b47088655",
   "metadata": {},
   "outputs": [
    {
     "data": {
      "text/plain": [
       "Model Year\n",
       "2003        1\n",
       "2026        1\n",
       "2002        2\n",
       "2000        7\n",
       "2008       20\n",
       "2010       23\n",
       "2011      677\n",
       "2012     1484\n",
       "2014     3388\n",
       "2013     4211\n",
       "2015     4638\n",
       "2016     5310\n",
       "2017     8693\n",
       "2019    10968\n",
       "2020    12220\n",
       "2025    14067\n",
       "2018    14428\n",
       "2021    20520\n",
       "2022    29012\n",
       "2024    49844\n",
       "2023    60233\n",
       "Name: count, dtype: int64"
      ]
     },
     "execution_count": 111,
     "metadata": {},
     "output_type": "execute_result"
    }
   ],
   "source": [
    "# Electric Vehicle Count by Model Year\n",
    "year_count=df[\"Model Year\"].value_counts().sort_values()\n",
    "year_count"
   ]
  },
  {
   "cell_type": "code",
   "execution_count": 144,
   "id": "afb9f45d-f107-4c31-bd9d-08ec50d72ab7",
   "metadata": {},
   "outputs": [
    {
     "data": {
      "text/plain": [
       "County\n",
       "King         120383\n",
       "Snohomish     29435\n",
       "Pierce        19672\n",
       "Clark         14424\n",
       "Thurston       8759\n",
       "Name: count, dtype: int64"
      ]
     },
     "execution_count": 144,
     "metadata": {},
     "output_type": "execute_result"
    }
   ],
   "source": [
    "\n",
    "top_county=df[\"County\"].value_counts().head()\n",
    "top_county"
   ]
  },
  {
   "cell_type": "code",
   "execution_count": 113,
   "id": "a93d93cc-2267-478a-8499-8604371dbc99",
   "metadata": {},
   "outputs": [
    {
     "data": {
      "text/plain": [
       "City\n",
       "Seattle      38046\n",
       "Bellevue     11685\n",
       "Vancouver     8740\n",
       "Redmond       8320\n",
       "Bothell       7872\n",
       "Name: count, dtype: int64"
      ]
     },
     "execution_count": 113,
     "metadata": {},
     "output_type": "execute_result"
    }
   ],
   "source": [
    "# Top Cities with Most EV Registrations\n",
    "top_cities=df[\"City\"].value_counts().head()\n",
    "top_cities"
   ]
  },
  {
   "cell_type": "code",
   "execution_count": 145,
   "id": "4e5d83ef-be92-402a-9efb-442c679f1d4c",
   "metadata": {},
   "outputs": [
    {
     "data": {
      "text/plain": [
       "County  City     \n",
       "King    Seattle      38046\n",
       "        Bellevue     11684\n",
       "Clark   Vancouver     8740\n",
       "King    Redmond       8320\n",
       "        Kirkland      6800\n",
       "Name: count, dtype: int64"
      ]
     },
     "execution_count": 145,
     "metadata": {},
     "output_type": "execute_result"
    }
   ],
   "source": [
    "# Top counties with their cities with Most EV Registrations\n",
    "top_cities = df[[\"County\",\"City\"]].value_counts().sort_values(ascending = False).head(5)\n",
    "top_cities"
   ]
  },
  {
   "cell_type": "code",
   "execution_count": 115,
   "id": "ceac3058-bc59-4051-accd-bd56d27ca3d1",
   "metadata": {},
   "outputs": [
    {
     "data": {
      "text/plain": [
       "Clean Alternative Fuel Vehicle (CAFV) Eligibility\n",
       "Eligibility unknown as battery range has not been researched    142849\n",
       "Clean Alternative Fuel Vehicle Eligible                          73955\n",
       "Not eligible due to low battery range                            22943\n",
       "Name: count, dtype: int64"
      ]
     },
     "execution_count": 115,
     "metadata": {},
     "output_type": "execute_result"
    }
   ],
   "source": [
    "#CAFV Eligibility Count\n",
    "\n",
    "cafv = df[\"Clean Alternative Fuel Vehicle (CAFV) Eligibility\"].value_counts()\n",
    "cafv"
   ]
  },
  {
   "cell_type": "code",
   "execution_count": 116,
   "id": "1b387582-6d5b-4fe6-8531-71bfeddff447",
   "metadata": {},
   "outputs": [
    {
     "data": {
      "text/html": [
       "<div>\n",
       "<style scoped>\n",
       "    .dataframe tbody tr th:only-of-type {\n",
       "        vertical-align: middle;\n",
       "    }\n",
       "\n",
       "    .dataframe tbody tr th {\n",
       "        vertical-align: top;\n",
       "    }\n",
       "\n",
       "    .dataframe thead th {\n",
       "        text-align: right;\n",
       "    }\n",
       "</style>\n",
       "<table border=\"1\" class=\"dataframe\">\n",
       "  <thead>\n",
       "    <tr style=\"text-align: right;\">\n",
       "      <th></th>\n",
       "      <th>Make</th>\n",
       "      <th>Model</th>\n",
       "      <th>Clean Alternative Fuel Vehicle (CAFV) Eligibility</th>\n",
       "    </tr>\n",
       "  </thead>\n",
       "  <tbody>\n",
       "    <tr>\n",
       "      <th>0</th>\n",
       "      <td>JEEP</td>\n",
       "      <td>WRANGLER</td>\n",
       "      <td>Not eligible due to low battery range</td>\n",
       "    </tr>\n",
       "    <tr>\n",
       "      <th>1</th>\n",
       "      <td>CHEVROLET</td>\n",
       "      <td>BOLT EV</td>\n",
       "      <td>Clean Alternative Fuel Vehicle Eligible</td>\n",
       "    </tr>\n",
       "    <tr>\n",
       "      <th>2</th>\n",
       "      <td>KIA</td>\n",
       "      <td>NIRO</td>\n",
       "      <td>Clean Alternative Fuel Vehicle Eligible</td>\n",
       "    </tr>\n",
       "    <tr>\n",
       "      <th>3</th>\n",
       "      <td>NISSAN</td>\n",
       "      <td>LEAF</td>\n",
       "      <td>Clean Alternative Fuel Vehicle Eligible</td>\n",
       "    </tr>\n",
       "    <tr>\n",
       "      <th>4</th>\n",
       "      <td>TESLA</td>\n",
       "      <td>MODEL X</td>\n",
       "      <td>Clean Alternative Fuel Vehicle Eligible</td>\n",
       "    </tr>\n",
       "  </tbody>\n",
       "</table>\n",
       "</div>"
      ],
      "text/plain": [
       "        Make     Model Clean Alternative Fuel Vehicle (CAFV) Eligibility\n",
       "0       JEEP  WRANGLER             Not eligible due to low battery range\n",
       "1  CHEVROLET   BOLT EV           Clean Alternative Fuel Vehicle Eligible\n",
       "2        KIA      NIRO           Clean Alternative Fuel Vehicle Eligible\n",
       "3     NISSAN      LEAF           Clean Alternative Fuel Vehicle Eligible\n",
       "4      TESLA   MODEL X           Clean Alternative Fuel Vehicle Eligible"
      ]
     },
     "execution_count": 116,
     "metadata": {},
     "output_type": "execute_result"
    }
   ],
   "source": [
    "#CAFV Eligibility Count with cars info\n",
    "model_cafv=df[[\"Make\", \"Model\", \"Clean Alternative Fuel Vehicle (CAFV) Eligibility\"]]\n",
    "model_cafv.head()"
   ]
  },
  {
   "cell_type": "markdown",
   "id": "b84dc074-9970-47ce-ada4-1c218c683274",
   "metadata": {},
   "source": [
    "## Visualization"
   ]
  },
  {
   "cell_type": "code",
   "execution_count": 118,
   "id": "cedb1570-1652-479b-8c64-18b691efcd87",
   "metadata": {},
   "outputs": [
    {
     "data": {
      "image/png": "[encoded data removed]",
      "text/plain": [
       "<Figure size 1000x600 with 1 Axes>"
      ]
     },
     "metadata": {},
     "output_type": "display_data"
    }
   ],
   "source": [
    "#Top EV Brands\n",
    "\n",
    "plt.figure(figsize=(10, 6))\n",
    "sns.barplot(x=top_makes.values, y=top_makes.index, palette=\"viridis\")\n",
    "plt.title(\"Top 10 EV Brands in Washington\")\n",
    "plt.xlabel(\"Number of Vehicles\")\n",
    "plt.ylabel(\"Brand\")\n",
    "plt.show()"
   ]
  },
  {
   "cell_type": "code",
   "execution_count": 119,
   "id": "6257ed28-dd67-41b7-a1b7-966be2efb204",
   "metadata": {},
   "outputs": [
    {
     "data": {
      "image/png": "[encoded data removed]",
      "text/plain": [
       "<Figure size 1000x600 with 1 Axes>"
      ]
     },
     "metadata": {},
     "output_type": "display_data"
    }
   ],
   "source": [
    "#EVs Registered Per Year \n",
    "\n",
    "plt.figure(figsize=(10, 6))\n",
    "sns.lineplot(x=year_count.index, y=year_count.values, marker=\"o\", color=\"blue\")\n",
    "plt.title(\"Electric Vehicle Registrations by Year\")\n",
    "plt.xlabel(\"Model Year\")\n",
    "plt.ylabel(\"Number of EVs\")\n",
    "plt.grid(True)\n",
    "plt.show()"
   ]
  },
  {
   "cell_type": "code",
   "execution_count": 121,
   "id": "831d147f-8cb0-404c-9597-f4463c328e76",
   "metadata": {},
   "outputs": [
    {
     "data": {
      "image/png": "[encoded data removed]",
      "text/plain": [
       "<Figure size 1000x600 with 1 Axes>"
      ]
     },
     "metadata": {},
     "output_type": "display_data"
    }
   ],
   "source": [
    "#Average Electric Range by Top 10 Brands\n",
    "\n",
    "plt.figure(figsize=(10, 6))\n",
    "sns.barplot(x=avg_range_by_make.values, y=avg_range_by_make.index, palette=\"magma\")\n",
    "plt.title(\"Top 10 Brands by Average Electric Range\")\n",
    "plt.xlabel(\"Average Range (km)\")\n",
    "plt.ylabel(\"Brand\")\n",
    "plt.show()"
   ]
  },
  {
   "cell_type": "code",
   "execution_count": 137,
   "id": "7e3033ec-983a-4d1f-ba86-79c3efd808df",
   "metadata": {},
   "outputs": [
    {
     "data": {
      "image/png": "[encoded data removed]",
      "text/plain": [
       "<Figure size 1600x500 with 1 Axes>"
      ]
     },
     "metadata": {},
     "output_type": "display_data"
    }
   ],
   "source": [
    "# Vehicle Type Distribution\n",
    "\n",
    "plt.figure(figsize=(16, 5))\n",
    "sns.barplot(x=cafv.index, y=cafv.values, palette=\"viridis\")\n",
    "plt.title(\"EV Type Distribution\")\n",
    "plt.ylabel(\"Number of EVs\")\n",
    "plt.xlabel(\"EV Type\")\n",
    "plt.show()"
   ]
  },
  {
   "cell_type": "code",
   "execution_count": 146,
   "id": "dfe29b48-52a3-4064-8247-7127bad6fe82",
   "metadata": {},
   "outputs": [],
   "source": [
    "df.to_csv(\"electric_data.csv\", index=False)"
   ]
  },
  {
   "cell_type": "code",
   "execution_count": null,
   "id": "d0f7f382-8fb7-4899-822d-c2fd79bec7c5",
   "metadata": {},
   "outputs": [],
   "source": []
  }
 ],
 "metadata": {
  "kernelspec": {
   "display_name": "Python 3 (ipykernel)",
   "language": "python",
   "name": "python3"
  },
  "language_info": {
   "codemirror_mode": {
    "name": "ipython",
    "version": 3
   },
   "file_extension": ".py",
   "mimetype": "text/x-python",
   "name": "python",
   "nbconvert_exporter": "python",
   "pygments_lexer": "ipython3",
   "version": "3.12.4"
  }
 },
 "nbformat": 4,
 "nbformat_minor": 5
}
